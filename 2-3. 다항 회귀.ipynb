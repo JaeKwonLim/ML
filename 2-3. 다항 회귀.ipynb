{
  "nbformat": 4,
  "nbformat_minor": 0,
  "metadata": {
    "colab": {
      "provenance": [],
      "collapsed_sections": [],
      "authorship_tag": "ABX9TyObWDHTMMAb3yFtzpVb9Tt9"
    },
    "kernelspec": {
      "name": "python3",
      "display_name": "Python 3"
    },
    "language_info": {
      "name": "python"
    }
  },
  "cells": [
    {
      "cell_type": "code",
      "execution_count": null,
      "metadata": {
        "colab": {
          "base_uri": "https://localhost:8080/"
        },
        "id": "NPXeaawfgiIR",
        "outputId": "19b92651-3b17-43fc-a09c-e2162df07a45"
      },
      "outputs": [
        {
          "output_type": "stream",
          "name": "stdout",
          "text": [
            "Mounted at /content/drive\n"
          ]
        }
      ],
      "source": [
        "import matplotlib.pyplot as plt\n",
        "\n",
        "import pandas as pd\n",
        "import numpy as np\n",
        "\n",
        "from google.colab import drive\n",
        "drive.mount(\"/content/drive\")"
      ]
    },
    {
      "cell_type": "code",
      "source": [
        "from sklearn.datasets import load_boston\n",
        "from sklearn.preprocessing import PolynomialFeatures\n",
        "from sklearn.model_selection import train_test_split\n",
        "from sklearn.linear_model import LinearRegression\n",
        "from sklearn.metrics import mean_squared_error\n",
        "\n",
        "boston_dataset = load_boston()"
      ],
      "metadata": {
        "colab": {
          "base_uri": "https://localhost:8080/"
        },
        "id": "aWIFafBYgm1M",
        "outputId": "92f1a8b8-15c0-4b80-f6aa-2f5169489b9a"
      },
      "execution_count": null,
      "outputs": [
        {
          "output_type": "stream",
          "name": "stderr",
          "text": [
            "/usr/local/lib/python3.7/dist-packages/sklearn/utils/deprecation.py:87: FutureWarning: Function load_boston is deprecated; `load_boston` is deprecated in 1.0 and will be removed in 1.2.\n",
            "\n",
            "    The Boston housing prices dataset has an ethical problem. You can refer to\n",
            "    the documentation of this function for further details.\n",
            "\n",
            "    The scikit-learn maintainers therefore strongly discourage the use of this\n",
            "    dataset unless the purpose of the code is to study and educate about\n",
            "    ethical issues in data science and machine learning.\n",
            "\n",
            "    In this special case, you can fetch the dataset from the original\n",
            "    source::\n",
            "\n",
            "        import pandas as pd\n",
            "        import numpy as np\n",
            "\n",
            "\n",
            "        data_url = \"http://lib.stat.cmu.edu/datasets/boston\"\n",
            "        raw_df = pd.read_csv(data_url, sep=\"\\s+\", skiprows=22, header=None)\n",
            "        data = np.hstack([raw_df.values[::2, :], raw_df.values[1::2, :2]])\n",
            "        target = raw_df.values[1::2, 2]\n",
            "\n",
            "    Alternative datasets include the California housing dataset (i.e.\n",
            "    :func:`~sklearn.datasets.fetch_california_housing`) and the Ames housing\n",
            "    dataset. You can load the datasets as follows::\n",
            "\n",
            "        from sklearn.datasets import fetch_california_housing\n",
            "        housing = fetch_california_housing()\n",
            "\n",
            "    for the California housing dataset and::\n",
            "\n",
            "        from sklearn.datasets import fetch_openml\n",
            "        housing = fetch_openml(name=\"house_prices\", as_frame=True)\n",
            "\n",
            "    for the Ames housing dataset.\n",
            "    \n",
            "  warnings.warn(msg, category=FutureWarning)\n"
          ]
        }
      ]
    },
    {
      "cell_type": "code",
      "source": [
        "boston_dataset.data"
      ],
      "metadata": {
        "colab": {
          "base_uri": "https://localhost:8080/"
        },
        "id": "bwF7_SjJl5v9",
        "outputId": "dab96feb-a1e1-412c-a724-0817ccf4b6fb"
      },
      "execution_count": null,
      "outputs": [
        {
          "output_type": "execute_result",
          "data": {
            "text/plain": [
              "array([[6.3200e-03, 1.8000e+01, 2.3100e+00, ..., 1.5300e+01, 3.9690e+02,\n",
              "        4.9800e+00],\n",
              "       [2.7310e-02, 0.0000e+00, 7.0700e+00, ..., 1.7800e+01, 3.9690e+02,\n",
              "        9.1400e+00],\n",
              "       [2.7290e-02, 0.0000e+00, 7.0700e+00, ..., 1.7800e+01, 3.9283e+02,\n",
              "        4.0300e+00],\n",
              "       ...,\n",
              "       [6.0760e-02, 0.0000e+00, 1.1930e+01, ..., 2.1000e+01, 3.9690e+02,\n",
              "        5.6400e+00],\n",
              "       [1.0959e-01, 0.0000e+00, 1.1930e+01, ..., 2.1000e+01, 3.9345e+02,\n",
              "        6.4800e+00],\n",
              "       [4.7410e-02, 0.0000e+00, 1.1930e+01, ..., 2.1000e+01, 3.9690e+02,\n",
              "        7.8800e+00]])"
            ]
          },
          "metadata": {},
          "execution_count": 5
        }
      ]
    },
    {
      "cell_type": "code",
      "source": [
        "boston_dataset.data.shape"
      ],
      "metadata": {
        "colab": {
          "base_uri": "https://localhost:8080/"
        },
        "id": "UexEeUCdl9M3",
        "outputId": "8e61559d-28fd-4676-8b93-ff12ae9bf796"
      },
      "execution_count": null,
      "outputs": [
        {
          "output_type": "execute_result",
          "data": {
            "text/plain": [
              "(506, 13)"
            ]
          },
          "metadata": {},
          "execution_count": 6
        }
      ]
    },
    {
      "cell_type": "code",
      "source": [
        "boston_dataset.feature_names"
      ],
      "metadata": {
        "colab": {
          "base_uri": "https://localhost:8080/"
        },
        "id": "kOC4-BezmAew",
        "outputId": "8bbc26cc-180e-4491-bf2d-09a22d9cde7a"
      },
      "execution_count": null,
      "outputs": [
        {
          "output_type": "execute_result",
          "data": {
            "text/plain": [
              "array(['CRIM', 'ZN', 'INDUS', 'CHAS', 'NOX', 'RM', 'AGE', 'DIS', 'RAD',\n",
              "       'TAX', 'PTRATIO', 'B', 'LSTAT'], dtype='<U7')"
            ]
          },
          "metadata": {},
          "execution_count": 7
        }
      ]
    },
    {
      "cell_type": "code",
      "source": [
        "polynomial_transformer = PolynomialFeatures(2)"
      ],
      "metadata": {
        "id": "URuk4xf5mD1O"
      },
      "execution_count": null,
      "outputs": []
    },
    {
      "cell_type": "code",
      "source": [
        "polynomial_data = polynomial_transformer.fit_transform(boston_dataset.data)"
      ],
      "metadata": {
        "id": "IH8-RM8MmW5k"
      },
      "execution_count": null,
      "outputs": []
    },
    {
      "cell_type": "code",
      "source": [
        "polynomial_data"
      ],
      "metadata": {
        "colab": {
          "base_uri": "https://localhost:8080/"
        },
        "id": "U4jYlfn3mhCz",
        "outputId": "776128d8-8c90-4126-bc84-24b6051bf7e1"
      },
      "execution_count": null,
      "outputs": [
        {
          "output_type": "execute_result",
          "data": {
            "text/plain": [
              "array([[1.00000000e+00, 6.32000000e-03, 1.80000000e+01, ...,\n",
              "        1.57529610e+05, 1.97656200e+03, 2.48004000e+01],\n",
              "       [1.00000000e+00, 2.73100000e-02, 0.00000000e+00, ...,\n",
              "        1.57529610e+05, 3.62766600e+03, 8.35396000e+01],\n",
              "       [1.00000000e+00, 2.72900000e-02, 0.00000000e+00, ...,\n",
              "        1.54315409e+05, 1.58310490e+03, 1.62409000e+01],\n",
              "       ...,\n",
              "       [1.00000000e+00, 6.07600000e-02, 0.00000000e+00, ...,\n",
              "        1.57529610e+05, 2.23851600e+03, 3.18096000e+01],\n",
              "       [1.00000000e+00, 1.09590000e-01, 0.00000000e+00, ...,\n",
              "        1.54802902e+05, 2.54955600e+03, 4.19904000e+01],\n",
              "       [1.00000000e+00, 4.74100000e-02, 0.00000000e+00, ...,\n",
              "        1.57529610e+05, 3.12757200e+03, 6.20944000e+01]])"
            ]
          },
          "metadata": {},
          "execution_count": 11
        }
      ]
    },
    {
      "cell_type": "code",
      "source": [
        "polynomial_data.shape"
      ],
      "metadata": {
        "colab": {
          "base_uri": "https://localhost:8080/"
        },
        "id": "NMCvmvrxmjmb",
        "outputId": "9a4a0a2b-f1bb-4c8e-8ae5-79c311dd3922"
      },
      "execution_count": null,
      "outputs": [
        {
          "output_type": "execute_result",
          "data": {
            "text/plain": [
              "(506, 105)"
            ]
          },
          "metadata": {},
          "execution_count": 12
        }
      ]
    },
    {
      "cell_type": "code",
      "source": [
        "polynomial_featurenames = polynomial_transformer.get_feature_names(boston_dataset.feature_names)"
      ],
      "metadata": {
        "colab": {
          "base_uri": "https://localhost:8080/"
        },
        "id": "EGdtUfpVmoPT",
        "outputId": "02189d41-d537-4761-ebcb-656a031eaa11"
      },
      "execution_count": null,
      "outputs": [
        {
          "output_type": "stream",
          "name": "stderr",
          "text": [
            "/usr/local/lib/python3.7/dist-packages/sklearn/utils/deprecation.py:87: FutureWarning: Function get_feature_names is deprecated; get_feature_names is deprecated in 1.0 and will be removed in 1.2. Please use get_feature_names_out instead.\n",
            "  warnings.warn(msg, category=FutureWarning)\n"
          ]
        }
      ]
    },
    {
      "cell_type": "code",
      "source": [
        "polynomial_featurenames"
      ],
      "metadata": {
        "colab": {
          "base_uri": "https://localhost:8080/"
        },
        "id": "v8Egja8ym3gD",
        "outputId": "90cccc9e-9975-43b5-a0fe-94e862f5f60b"
      },
      "execution_count": null,
      "outputs": [
        {
          "output_type": "execute_result",
          "data": {
            "text/plain": [
              "['1',\n",
              " 'CRIM',\n",
              " 'ZN',\n",
              " 'INDUS',\n",
              " 'CHAS',\n",
              " 'NOX',\n",
              " 'RM',\n",
              " 'AGE',\n",
              " 'DIS',\n",
              " 'RAD',\n",
              " 'TAX',\n",
              " 'PTRATIO',\n",
              " 'B',\n",
              " 'LSTAT',\n",
              " 'CRIM^2',\n",
              " 'CRIM ZN',\n",
              " 'CRIM INDUS',\n",
              " 'CRIM CHAS',\n",
              " 'CRIM NOX',\n",
              " 'CRIM RM',\n",
              " 'CRIM AGE',\n",
              " 'CRIM DIS',\n",
              " 'CRIM RAD',\n",
              " 'CRIM TAX',\n",
              " 'CRIM PTRATIO',\n",
              " 'CRIM B',\n",
              " 'CRIM LSTAT',\n",
              " 'ZN^2',\n",
              " 'ZN INDUS',\n",
              " 'ZN CHAS',\n",
              " 'ZN NOX',\n",
              " 'ZN RM',\n",
              " 'ZN AGE',\n",
              " 'ZN DIS',\n",
              " 'ZN RAD',\n",
              " 'ZN TAX',\n",
              " 'ZN PTRATIO',\n",
              " 'ZN B',\n",
              " 'ZN LSTAT',\n",
              " 'INDUS^2',\n",
              " 'INDUS CHAS',\n",
              " 'INDUS NOX',\n",
              " 'INDUS RM',\n",
              " 'INDUS AGE',\n",
              " 'INDUS DIS',\n",
              " 'INDUS RAD',\n",
              " 'INDUS TAX',\n",
              " 'INDUS PTRATIO',\n",
              " 'INDUS B',\n",
              " 'INDUS LSTAT',\n",
              " 'CHAS^2',\n",
              " 'CHAS NOX',\n",
              " 'CHAS RM',\n",
              " 'CHAS AGE',\n",
              " 'CHAS DIS',\n",
              " 'CHAS RAD',\n",
              " 'CHAS TAX',\n",
              " 'CHAS PTRATIO',\n",
              " 'CHAS B',\n",
              " 'CHAS LSTAT',\n",
              " 'NOX^2',\n",
              " 'NOX RM',\n",
              " 'NOX AGE',\n",
              " 'NOX DIS',\n",
              " 'NOX RAD',\n",
              " 'NOX TAX',\n",
              " 'NOX PTRATIO',\n",
              " 'NOX B',\n",
              " 'NOX LSTAT',\n",
              " 'RM^2',\n",
              " 'RM AGE',\n",
              " 'RM DIS',\n",
              " 'RM RAD',\n",
              " 'RM TAX',\n",
              " 'RM PTRATIO',\n",
              " 'RM B',\n",
              " 'RM LSTAT',\n",
              " 'AGE^2',\n",
              " 'AGE DIS',\n",
              " 'AGE RAD',\n",
              " 'AGE TAX',\n",
              " 'AGE PTRATIO',\n",
              " 'AGE B',\n",
              " 'AGE LSTAT',\n",
              " 'DIS^2',\n",
              " 'DIS RAD',\n",
              " 'DIS TAX',\n",
              " 'DIS PTRATIO',\n",
              " 'DIS B',\n",
              " 'DIS LSTAT',\n",
              " 'RAD^2',\n",
              " 'RAD TAX',\n",
              " 'RAD PTRATIO',\n",
              " 'RAD B',\n",
              " 'RAD LSTAT',\n",
              " 'TAX^2',\n",
              " 'TAX PTRATIO',\n",
              " 'TAX B',\n",
              " 'TAX LSTAT',\n",
              " 'PTRATIO^2',\n",
              " 'PTRATIO B',\n",
              " 'PTRATIO LSTAT',\n",
              " 'B^2',\n",
              " 'B LSTAT',\n",
              " 'LSTAT^2']"
            ]
          },
          "metadata": {},
          "execution_count": 14
        }
      ]
    },
    {
      "cell_type": "code",
      "source": [
        "x = pd.DataFrame(polynomial_data, columns = polynomial_featurenames)"
      ],
      "metadata": {
        "id": "ZmEg5nJTm4W_"
      },
      "execution_count": null,
      "outputs": []
    },
    {
      "cell_type": "code",
      "source": [
        "y = pd.DataFrame(boston_dataset.target, columns = ['MEDV'])"
      ],
      "metadata": {
        "id": "tleUAOBznHTy"
      },
      "execution_count": null,
      "outputs": []
    },
    {
      "cell_type": "code",
      "source": [
        "x_train, x_test, y_train, y_test = train_test_split(x, y, test_size=0.2, random_state=5)\n",
        "model = LinearRegression()\n",
        "model.fit(x_train, y_train)"
      ],
      "metadata": {
        "colab": {
          "base_uri": "https://localhost:8080/"
        },
        "id": "j7yW-7jJn3na",
        "outputId": "50d90658-0019-4b56-8d13-df3b18d58836"
      },
      "execution_count": null,
      "outputs": [
        {
          "output_type": "execute_result",
          "data": {
            "text/plain": [
              "LinearRegression()"
            ]
          },
          "metadata": {},
          "execution_count": 22
        }
      ]
    },
    {
      "cell_type": "code",
      "source": [
        "model.coef_"
      ],
      "metadata": {
        "colab": {
          "base_uri": "https://localhost:8080/"
        },
        "id": "4B1QPTwUoV-D",
        "outputId": "69afd6ed-6b39-4a4b-fed5-1abd59a7d0e6"
      },
      "execution_count": null,
      "outputs": [
        {
          "output_type": "execute_result",
          "data": {
            "text/plain": [
              "array([[-2.55720149e-07, -5.09146959e+00, -1.65753983e-01,\n",
              "        -5.97358604e+00,  2.43179261e+01,  1.65180559e+02,\n",
              "         2.19910116e+01,  1.03167123e+00, -5.66895775e+00,\n",
              "         3.22443249e+00, -1.10055942e-02,  5.35127787e+00,\n",
              "        -4.81524409e-02,  7.53109325e-01,  2.16774682e-03,\n",
              "         2.69938772e-01,  5.87901385e-01,  2.41731932e+00,\n",
              "        -2.52413195e-02,  8.92859572e-02, -5.18832420e-03,\n",
              "        -5.77807152e-02,  3.55602049e-01, -3.86092281e-02,\n",
              "         5.43572101e-01, -3.18134358e-04,  2.40035425e-02,\n",
              "        -7.48850220e-04, -7.16133310e-03, -1.06886010e-01,\n",
              "        -1.27782609e+00,  2.50137719e-02,  1.14111417e-04,\n",
              "        -1.25254119e-02, -4.68024813e-03,  6.05725185e-04,\n",
              "        -8.57873132e-03,  1.85030053e-03, -4.64730601e-03,\n",
              "         3.08484808e-02, -2.09065897e-01,  1.30035723e+00,\n",
              "         3.13497405e-01,  6.72540164e-04,  7.51823883e-02,\n",
              "        -7.38014889e-03,  4.23364348e-04, -6.72155118e-03,\n",
              "         6.42107774e-03, -5.32275093e-03,  2.43179260e+01,\n",
              "        -1.84845896e+01, -6.89090796e+00,  3.60375828e-02,\n",
              "         3.05451225e+00, -4.09746374e-01,  2.34143012e-02,\n",
              "        -8.47140007e-01,  2.67079534e-02, -4.67786369e-01,\n",
              "        -4.67850812e+01,  3.64543351e+00, -6.00214489e-01,\n",
              "         1.59316284e+01, -9.85012970e-01,  1.34091848e-01,\n",
              "        -1.19204901e+01, -3.52741122e-02,  1.49910251e+00,\n",
              "         1.61796865e-01, -5.59710757e-02, -2.01415693e-02,\n",
              "        -1.48173641e-01, -1.44084743e-02, -5.43970810e-01,\n",
              "        -2.51829107e-03, -2.23180151e-01,  1.04437605e-04,\n",
              "        -1.11866477e-02,  1.76080422e-02, -5.61733228e-04,\n",
              "         7.89859008e-04, -7.29621881e-04, -6.91541692e-03,\n",
              "         5.10744891e-01, -9.97148047e-02, -5.10129116e-03,\n",
              "        -1.89041938e-01, -7.59517251e-03,  1.03720290e-01,\n",
              "        -1.40678180e-01,  7.67704651e-03, -1.15933963e-01,\n",
              "        -9.65920564e-04, -4.55543664e-02, -5.15985543e-05,\n",
              "         6.37266840e-03, -1.20248657e-04, -1.90119503e-04,\n",
              "        -1.35160919e-02,  9.14979704e-03, -2.02259708e-04,\n",
              "        -1.93102592e-05, -7.46677274e-04,  9.84814764e-03]])"
            ]
          },
          "metadata": {},
          "execution_count": 24
        }
      ]
    },
    {
      "cell_type": "code",
      "source": [
        "model.intercept_"
      ],
      "metadata": {
        "colab": {
          "base_uri": "https://localhost:8080/"
        },
        "id": "XeYNp8s1oYiC",
        "outputId": "3a766297-11b7-4c16-eda4-2c838e702eb2"
      },
      "execution_count": null,
      "outputs": [
        {
          "output_type": "execute_result",
          "data": {
            "text/plain": [
              "array([-141.89855579])"
            ]
          },
          "metadata": {},
          "execution_count": 25
        }
      ]
    },
    {
      "cell_type": "code",
      "source": [
        "y_test_prediction = model.predict(x_test)\n",
        "mean_squared_error(y_test, y_test_prediction) ** 0.5"
      ],
      "metadata": {
        "colab": {
          "base_uri": "https://localhost:8080/"
        },
        "id": "xNrQqKEUodCL",
        "outputId": "8fbf04e3-759f-4157-962a-449cb45ca87c"
      },
      "execution_count": null,
      "outputs": [
        {
          "output_type": "execute_result",
          "data": {
            "text/plain": [
              "3.19652765126977"
            ]
          },
          "metadata": {},
          "execution_count": 26
        }
      ]
    }
  ]
}