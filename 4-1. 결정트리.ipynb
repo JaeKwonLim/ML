{
  "nbformat": 4,
  "nbformat_minor": 0,
  "metadata": {
    "colab": {
      "provenance": [],
      "authorship_tag": "ABX9TyO7ApuKnezGjCXgRhaB3Vgg"
    },
    "kernelspec": {
      "name": "python3",
      "display_name": "Python 3"
    },
    "language_info": {
      "name": "python"
    }
  },
  "cells": [
    {
      "cell_type": "code",
      "execution_count": 37,
      "metadata": {
        "id": "aemNlD6XYbIC",
        "colab": {
          "base_uri": "https://localhost:8080/"
        },
        "outputId": "a7a757d6-d55a-4d1a-a1e4-335d94dae279"
      },
      "outputs": [
        {
          "output_type": "stream",
          "name": "stdout",
          "text": [
            "Drive already mounted at /content/drive; to attempt to forcibly remount, call drive.mount(\"/content/drive\", force_remount=True).\n"
          ]
        }
      ],
      "source": [
        "import pandas as pd\n",
        "import numpy as np\n",
        "import matplotlib.pyplot as plt\n",
        "\n",
        "from google.colab import drive\n",
        "drive.mount(\"/content/drive\")"
      ]
    },
    {
      "cell_type": "code",
      "source": [
        "from sklearn.datasets import load_iris\n",
        "from sklearn.model_selection import train_test_split\n",
        "from sklearn.tree import DecisionTreeClassifier\n",
        "\n",
        "iris_data = load_iris()\n",
        "X = pd.DataFrame(iris_data.data, columns = iris_data.feature_names)\n",
        "y = pd.DataFrame(iris_data.target, columns = ['class'])"
      ],
      "metadata": {
        "id": "WcV5KmdvD7E0"
      },
      "execution_count": 31,
      "outputs": []
    },
    {
      "cell_type": "code",
      "source": [
        "X_train, X_test, y_train, y_test = train_test_split(X,y, test_size = 0.2, random_state = 5)\n",
        "\n",
        "model = DecisionTreeClassifier(max_depth=4)\n",
        "\n",
        "model.fit(X_train,y_train)\n",
        "\n",
        "model.predict(X_test)\n",
        "\n",
        "model.score(X_test,y_test)"
      ],
      "metadata": {
        "colab": {
          "base_uri": "https://localhost:8080/"
        },
        "id": "bjJKAUscFHHb",
        "outputId": "265ae5ba-c45f-46d0-c401-06944984a86b"
      },
      "execution_count": 32,
      "outputs": [
        {
          "output_type": "execute_result",
          "data": {
            "text/plain": [
              "0.8666666666666667"
            ]
          },
          "metadata": {},
          "execution_count": 32
        }
      ]
    },
    {
      "cell_type": "code",
      "source": [
        "importances = model.feature_importances_"
      ],
      "metadata": {
        "id": "ZQt2s68UGXig"
      },
      "execution_count": 33,
      "outputs": []
    },
    {
      "cell_type": "code",
      "source": [
        "indices_sorted = np.argsort(importances)\n",
        "\n",
        "plt.figure()\n",
        "plt.title(\"Feature importances\")\n",
        "plt.bar(range(len(importances)), importances[indices_sorted])\n",
        "plt.xticks(range(len(importances)), X.columns[indices_sorted], rotation = 90)\n",
        "plt.show()"
      ],
      "metadata": {
        "colab": {
          "base_uri": "https://localhost:8080/",
          "height": 359
        },
        "id": "PPzhE68hGpxw",
        "outputId": "48949c89-9196-4a81-f231-d72319fd77be"
      },
      "execution_count": 40,
      "outputs": [
        {
          "output_type": "display_data",
          "data": {
            "text/plain": [
              "<Figure size 432x288 with 1 Axes>"
            ],
            "image/png": "[encoded data removed]"
          },
          "metadata": {
            "needs_background": "light"
          }
        }
      ]
    },
    {
      "cell_type": "markdown",
      "source": [
        "# 유방암"
      ],
      "metadata": {
        "id": "99IxZpV6JroI"
      }
    },
    {
      "cell_type": "code",
      "source": [
        "from sklearn.datasets import load_breast_cancer"
      ],
      "metadata": {
        "id": "NixkxSGPHMvA"
      },
      "execution_count": 41,
      "outputs": []
    },
    {
      "cell_type": "code",
      "source": [
        "cancer_data = load_breast_cancer()\n",
        "#print(cancer_data.DESCR)"
      ],
      "metadata": {
        "id": "ViNCkzqrJxum"
      },
      "execution_count": 44,
      "outputs": []
    },
    {
      "cell_type": "code",
      "source": [
        "X = pd.DataFrame(cancer_data.data, columns = cancer_data.feature_names)\n",
        "y = pd.DataFrame(cancer_data.target, columns = ['class'])\n",
        "\n",
        "X_train, X_test, y_train, y_test = train_test_split(X,y, test_size = 0.2, random_state = 5)\n",
        "y_train = y_train.values.ravel()\n",
        "\n",
        "model = DecisionTreeClassifier(max_depth=5, random_state=42)\n",
        "model.fit(X_train,y_train)\n",
        "predictions = model.predict(X_test)\n",
        "score = model.score(X_test,y_test)"
      ],
      "metadata": {
        "colab": {
          "base_uri": "https://localhost:8080/",
          "height": 314
        },
        "id": "CYZ3A8QlJ1cm",
        "outputId": "e2c11fdc-bcb6-42ce-bcb2-29eb96dd4c8a"
      },
      "execution_count": 43,
      "outputs": [
        {
          "output_type": "execute_result",
          "data": {
            "text/plain": [
              "     mean radius  mean texture  mean perimeter  mean area  mean smoothness  \\\n",
              "306        13.20         15.82           84.07      537.3          0.08511   \n",
              "410        11.36         17.57           72.49      399.8          0.08858   \n",
              "197        18.08         21.84          117.40     1024.0          0.07371   \n",
              "376        10.57         20.22           70.15      338.3          0.09073   \n",
              "244        19.40         23.50          129.10     1155.0          0.10270   \n",
              "\n",
              "     mean compactness  mean concavity  mean concave points  mean symmetry  \\\n",
              "306           0.05251        0.001461             0.003261         0.1632   \n",
              "410           0.05313        0.027830             0.021000         0.1601   \n",
              "197           0.08642        0.110300             0.057780         0.1770   \n",
              "376           0.16600        0.228000             0.059410         0.2188   \n",
              "244           0.15580        0.204900             0.088860         0.1978   \n",
              "\n",
              "     mean fractal dimension  ...  worst radius  worst texture  \\\n",
              "306                 0.05894  ...         14.41          20.45   \n",
              "410                 0.05913  ...         13.05          36.32   \n",
              "197                 0.05340  ...         19.76          24.70   \n",
              "376                 0.08450  ...         10.85          22.82   \n",
              "244                 0.06000  ...         21.65          30.53   \n",
              "\n",
              "     worst perimeter  worst area  worst smoothness  worst compactness  \\\n",
              "306            92.00       636.9           0.11280             0.1346   \n",
              "410            85.07       521.3           0.14530             0.1622   \n",
              "197           129.10      1228.0           0.08822             0.1963   \n",
              "376            76.51       351.9           0.11430             0.3619   \n",
              "244           144.90      1417.0           0.14630             0.2968   \n",
              "\n",
              "     worst concavity  worst concave points  worst symmetry  \\\n",
              "306           0.0112               0.02500          0.2651   \n",
              "410           0.1811               0.08698          0.2973   \n",
              "197           0.2535               0.09181          0.2369   \n",
              "376           0.6030               0.14650          0.2597   \n",
              "244           0.3458               0.15640          0.2920   \n",
              "\n",
              "     worst fractal dimension  \n",
              "306                  0.08385  \n",
              "410                  0.07745  \n",
              "197                  0.06558  \n",
              "376                  0.12000  \n",
              "244                  0.07614  \n",
              "\n",
              "[5 rows x 30 columns]"
            ],
            "text/html": [
              "\n",
              "  <div id=\"df-8a7ea0bc-f8f2-4ea9-b8c9-4423f1f6c628\">\n",
              "    <div class=\"colab-df-container\">\n",
              "      <div>\n",
              "<style scoped>\n",
              "    .dataframe tbody tr th:only-of-type {\n",
              "        vertical-align: middle;\n",
              "    }\n",
              "\n",
              "    .dataframe tbody tr th {\n",
              "        vertical-align: top;\n",
              "    }\n",
              "\n",
              "    .dataframe thead th {\n",
              "        text-align: right;\n",
              "    }\n",
              "</style>\n",
              "<table border=\"1\" class=\"dataframe\">\n",
              "  <thead>\n",
              "    <tr style=\"text-align: right;\">\n",
              "      <th></th>\n",
              "      <th>mean radius</th>\n",
              "      <th>mean texture</th>\n",
              "      <th>mean perimeter</th>\n",
              "      <th>mean area</th>\n",
              "      <th>mean smoothness</th>\n",
              "      <th>mean compactness</th>\n",
              "      <th>mean concavity</th>\n",
              "      <th>mean concave points</th>\n",
              "      <th>mean symmetry</th>\n",
              "      <th>mean fractal dimension</th>\n",
              "      <th>...</th>\n",
              "      <th>worst radius</th>\n",
              "      <th>worst texture</th>\n",
              "      <th>worst perimeter</th>\n",
              "      <th>worst area</th>\n",
              "      <th>worst smoothness</th>\n",
              "      <th>worst compactness</th>\n",
              "      <th>worst concavity</th>\n",
              "      <th>worst concave points</th>\n",
              "      <th>worst symmetry</th>\n",
              "      <th>worst fractal dimension</th>\n",
              "    </tr>\n",
              "  </thead>\n",
              "  <tbody>\n",
              "    <tr>\n",
              "      <th>306</th>\n",
              "      <td>13.20</td>\n",
              "      <td>15.82</td>\n",
              "      <td>84.07</td>\n",
              "      <td>537.3</td>\n",
              "      <td>0.08511</td>\n",
              "      <td>0.05251</td>\n",
              "      <td>0.001461</td>\n",
              "      <td>0.003261</td>\n",
              "      <td>0.1632</td>\n",
              "      <td>0.05894</td>\n",
              "      <td>...</td>\n",
              "      <td>14.41</td>\n",
              "      <td>20.45</td>\n",
              "      <td>92.00</td>\n",
              "      <td>636.9</td>\n",
              "      <td>0.11280</td>\n",
              "      <td>0.1346</td>\n",
              "      <td>0.0112</td>\n",
              "      <td>0.02500</td>\n",
              "      <td>0.2651</td>\n",
              "      <td>0.08385</td>\n",
              "    </tr>\n",
              "    <tr>\n",
              "      <th>410</th>\n",
              "      <td>11.36</td>\n",
              "      <td>17.57</td>\n",
              "      <td>72.49</td>\n",
              "      <td>399.8</td>\n",
              "      <td>0.08858</td>\n",
              "      <td>0.05313</td>\n",
              "      <td>0.027830</td>\n",
              "      <td>0.021000</td>\n",
              "      <td>0.1601</td>\n",
              "      <td>0.05913</td>\n",
              "      <td>...</td>\n",
              "      <td>13.05</td>\n",
              "      <td>36.32</td>\n",
              "      <td>85.07</td>\n",
              "      <td>521.3</td>\n",
              "      <td>0.14530</td>\n",
              "      <td>0.1622</td>\n",
              "      <td>0.1811</td>\n",
              "      <td>0.08698</td>\n",
              "      <td>0.2973</td>\n",
              "      <td>0.07745</td>\n",
              "    </tr>\n",
              "    <tr>\n",
              "      <th>197</th>\n",
              "      <td>18.08</td>\n",
              "      <td>21.84</td>\n",
              "      <td>117.40</td>\n",
              "      <td>1024.0</td>\n",
              "      <td>0.07371</td>\n",
              "      <td>0.08642</td>\n",
              "      <td>0.110300</td>\n",
              "      <td>0.057780</td>\n",
              "      <td>0.1770</td>\n",
              "      <td>0.05340</td>\n",
              "      <td>...</td>\n",
              "      <td>19.76</td>\n",
              "      <td>24.70</td>\n",
              "      <td>129.10</td>\n",
              "      <td>1228.0</td>\n",
              "      <td>0.08822</td>\n",
              "      <td>0.1963</td>\n",
              "      <td>0.2535</td>\n",
              "      <td>0.09181</td>\n",
              "      <td>0.2369</td>\n",
              "      <td>0.06558</td>\n",
              "    </tr>\n",
              "    <tr>\n",
              "      <th>376</th>\n",
              "      <td>10.57</td>\n",
              "      <td>20.22</td>\n",
              "      <td>70.15</td>\n",
              "      <td>338.3</td>\n",
              "      <td>0.09073</td>\n",
              "      <td>0.16600</td>\n",
              "      <td>0.228000</td>\n",
              "      <td>0.059410</td>\n",
              "      <td>0.2188</td>\n",
              "      <td>0.08450</td>\n",
              "      <td>...</td>\n",
              "      <td>10.85</td>\n",
              "      <td>22.82</td>\n",
              "      <td>76.51</td>\n",
              "      <td>351.9</td>\n",
              "      <td>0.11430</td>\n",
              "      <td>0.3619</td>\n",
              "      <td>0.6030</td>\n",
              "      <td>0.14650</td>\n",
              "      <td>0.2597</td>\n",
              "      <td>0.12000</td>\n",
              "    </tr>\n",
              "    <tr>\n",
              "      <th>244</th>\n",
              "      <td>19.40</td>\n",
              "      <td>23.50</td>\n",
              "      <td>129.10</td>\n",
              "      <td>1155.0</td>\n",
              "      <td>0.10270</td>\n",
              "      <td>0.15580</td>\n",
              "      <td>0.204900</td>\n",
              "      <td>0.088860</td>\n",
              "      <td>0.1978</td>\n",
              "      <td>0.06000</td>\n",
              "      <td>...</td>\n",
              "      <td>21.65</td>\n",
              "      <td>30.53</td>\n",
              "      <td>144.90</td>\n",
              "      <td>1417.0</td>\n",
              "      <td>0.14630</td>\n",
              "      <td>0.2968</td>\n",
              "      <td>0.3458</td>\n",
              "      <td>0.15640</td>\n",
              "      <td>0.2920</td>\n",
              "      <td>0.07614</td>\n",
              "    </tr>\n",
              "  </tbody>\n",
              "</table>\n",
              "<p>5 rows × 30 columns</p>\n",
              "</div>\n",
              "      <button class=\"colab-df-convert\" onclick=\"convertToInteractive('df-8a7ea0bc-f8f2-4ea9-b8c9-4423f1f6c628')\"\n",
              "              title=\"Convert this dataframe to an interactive table.\"\n",
              "              style=\"display:none;\">\n",
              "        \n",
              "  <svg xmlns=\"http://www.w3.org/2000/svg\" height=\"24px\"viewBox=\"0 0 24 24\"\n",
              "       width=\"24px\">\n",
              "    <path d=\"M0 0h24v24H0V0z\" fill=\"none\"/>\n",
              "    <path d=\"M18.56 5.44l.94 2.06.94-2.06 2.06-.94-2.06-.94-.94-2.06-.94 2.06-2.06.94zm-11 1L8.5 8.5l.94-2.06 2.06-.94-2.06-.94L8.5 2.5l-.94 2.06-2.06.94zm10 10l.94 2.06.94-2.06 2.06-.94-2.06-.94-.94-2.06-.94 2.06-2.06.94z\"/><path d=\"M17.41 7.96l-1.37-1.37c-.4-.4-.92-.59-1.43-.59-.52 0-1.04.2-1.43.59L10.3 9.45l-7.72 7.72c-.78.78-.78 2.05 0 2.83L4 21.41c.39.39.9.59 1.41.59.51 0 1.02-.2 1.41-.59l7.78-7.78 2.81-2.81c.8-.78.8-2.07 0-2.86zM5.41 20L4 18.59l7.72-7.72 1.47 1.35L5.41 20z\"/>\n",
              "  </svg>\n",
              "      </button>\n",
              "      \n",
              "  <style>\n",
              "    .colab-df-container {\n",
              "      display:flex;\n",
              "      flex-wrap:wrap;\n",
              "      gap: 12px;\n",
              "    }\n",
              "\n",
              "    .colab-df-convert {\n",
              "      background-color: #E8F0FE;\n",
              "      border: none;\n",
              "      border-radius: 50%;\n",
              "      cursor: pointer;\n",
              "      display: none;\n",
              "      fill: #1967D2;\n",
              "      height: 32px;\n",
              "      padding: 0 0 0 0;\n",
              "      width: 32px;\n",
              "    }\n",
              "\n",
              "    .colab-df-convert:hover {\n",
              "      background-color: #E2EBFA;\n",
              "      box-shadow: 0px 1px 2px rgba(60, 64, 67, 0.3), 0px 1px 3px 1px rgba(60, 64, 67, 0.15);\n",
              "      fill: #174EA6;\n",
              "    }\n",
              "\n",
              "    [theme=dark] .colab-df-convert {\n",
              "      background-color: #3B4455;\n",
              "      fill: #D2E3FC;\n",
              "    }\n",
              "\n",
              "    [theme=dark] .colab-df-convert:hover {\n",
              "      background-color: #434B5C;\n",
              "      box-shadow: 0px 1px 3px 1px rgba(0, 0, 0, 0.15);\n",
              "      filter: drop-shadow(0px 1px 2px rgba(0, 0, 0, 0.3));\n",
              "      fill: #FFFFFF;\n",
              "    }\n",
              "  </style>\n",
              "\n",
              "      <script>\n",
              "        const buttonEl =\n",
              "          document.querySelector('#df-8a7ea0bc-f8f2-4ea9-b8c9-4423f1f6c628 button.colab-df-convert');\n",
              "        buttonEl.style.display =\n",
              "          google.colab.kernel.accessAllowed ? 'block' : 'none';\n",
              "\n",
              "        async function convertToInteractive(key) {\n",
              "          const element = document.querySelector('#df-8a7ea0bc-f8f2-4ea9-b8c9-4423f1f6c628');\n",
              "          const dataTable =\n",
              "            await google.colab.kernel.invokeFunction('convertToInteractive',\n",
              "                                                     [key], {});\n",
              "          if (!dataTable) return;\n",
              "\n",
              "          const docLinkHtml = 'Like what you see? Visit the ' +\n",
              "            '<a target=\"_blank\" href=https://colab.research.google.com/notebooks/data_table.ipynb>data table notebook</a>'\n",
              "            + ' to learn more about interactive tables.';\n",
              "          element.innerHTML = '';\n",
              "          dataTable['output_type'] = 'display_data';\n",
              "          await google.colab.output.renderOutput(dataTable, element);\n",
              "          const docLink = document.createElement('div');\n",
              "          docLink.innerHTML = docLinkHtml;\n",
              "          element.appendChild(docLink);\n",
              "        }\n",
              "      </script>\n",
              "    </div>\n",
              "  </div>\n",
              "  "
            ]
          },
          "metadata": {},
          "execution_count": 43
        }
      ]
    },
    {
      "cell_type": "markdown",
      "source": [
        "# 랜덤 포레스트"
      ],
      "metadata": {
        "id": "04hK2POWSWVd"
      }
    },
    {
      "cell_type": "code",
      "source": [
        "from sklearn.datasets import load_iris\n",
        "from sklearn.model_selection import train_test_split\n",
        "from sklearn.ensemble import RandomForestClassifier\n",
        "\n",
        "iris_data = load_iris()\n",
        "X = pd.DataFrame(iris_data.data, columns = iris_data.feature_names)\n",
        "y = pd.DataFrame(iris_data.target, columns = ['class'])"
      ],
      "metadata": {
        "id": "E8HCT5qRSVkl"
      },
      "execution_count": 46,
      "outputs": []
    },
    {
      "cell_type": "code",
      "source": [
        "X_train, X_test, y_train, y_test = train_test_split(X,y, test_size = 0.2, random_state = 5)\n",
        "y_train = y_train.values.ravel()"
      ],
      "metadata": {
        "id": "rAiSpGjhSfRq"
      },
      "execution_count": 47,
      "outputs": []
    },
    {
      "cell_type": "code",
      "source": [
        "model = RandomForestClassifier(n_estimators=100, max_depth=4)\n",
        "model.fit(X_train,y_train)\n",
        "model.predict(X_test)\n",
        "model.score(X_test, y_test)"
      ],
      "metadata": {
        "colab": {
          "base_uri": "https://localhost:8080/"
        },
        "id": "FWp66Xx_S2oK",
        "outputId": "43c79c5d-f7cf-422b-b7ee-4a9343121aed"
      },
      "execution_count": 51,
      "outputs": [
        {
          "output_type": "execute_result",
          "data": {
            "text/plain": [
              "0.9"
            ]
          },
          "metadata": {},
          "execution_count": 51
        }
      ]
    },
    {
      "cell_type": "code",
      "source": [
        "importances = model.feature_importances_\n",
        "\n",
        "indices_sorted = np.argsort(importances)\n",
        "\n",
        "plt.figure()\n",
        "plt.title(\"Feature importances\")\n",
        "plt.bar(range(len(importances)), importances[indices_sorted])\n",
        "plt.xticks(range(len(importances)), X.columns[indices_sorted], rotation = 90)\n",
        "plt.show()"
      ],
      "metadata": {
        "colab": {
          "base_uri": "https://localhost:8080/",
          "height": 359
        },
        "id": "rkdJyv9rTSN0",
        "outputId": "546f7fef-81cd-419a-c244-79cb7a583dab"
      },
      "execution_count": 54,
      "outputs": [
        {
          "output_type": "display_data",
          "data": {
            "text/plain": [
              "<Figure size 432x288 with 1 Axes>"
            ],
            "image/png": "[encoded data removed]"
          },
          "metadata": {
            "needs_background": "light"
          }
        }
      ]
    }
  ]
}