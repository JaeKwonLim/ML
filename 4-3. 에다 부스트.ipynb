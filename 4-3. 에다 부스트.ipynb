{
  "nbformat": 4,
  "nbformat_minor": 0,
  "metadata": {
    "colab": {
      "provenance": [],
      "authorship_tag": "ABX9TyM12ggJH6+akFeJ0FRaR75V"
    },
    "kernelspec": {
      "name": "python3",
      "display_name": "Python 3"
    },
    "language_info": {
      "name": "python"
    }
  },
  "cells": [
    {
      "cell_type": "code",
      "execution_count": 18,
      "metadata": {
        "colab": {
          "base_uri": "https://localhost:8080/"
        },
        "id": "_CwIA4WCw3mQ",
        "outputId": "db5342e3-87e8-4921-e465-fb0de9a9096d"
      },
      "outputs": [
        {
          "output_type": "stream",
          "name": "stdout",
          "text": [
            "Drive already mounted at /content/drive; to attempt to forcibly remount, call drive.mount(\"/content/drive\", force_remount=True).\n"
          ]
        }
      ],
      "source": [
        "import pandas as pd\n",
        "import numpy as np\n",
        "import matplotlib.pyplot as plt\n",
        "\n",
        "from google.colab import drive\n",
        "drive.mount(\"/content/drive\")"
      ]
    },
    {
      "cell_type": "code",
      "source": [
        "from sklearn.datasets import load_iris\n",
        "from sklearn.model_selection import train_test_split\n",
        "from sklearn.ensemble import AdaBoostClassifier\n",
        "\n",
        "iris_data = load_iris()"
      ],
      "metadata": {
        "id": "XcigmU6yw-mZ"
      },
      "execution_count": 7,
      "outputs": []
    },
    {
      "cell_type": "code",
      "source": [
        "X = pd.DataFrame(iris_data.data, columns=iris_data.feature_names)\n",
        "y = pd.DataFrame(iris_data.target, columns=['class'])\n",
        "\n",
        "X_train, X_test, y_train, y_test = train_test_split(X,y,test_size = 0.2, random_state=5)\n",
        "y_train = y_train.values.ravel()"
      ],
      "metadata": {
        "id": "SET1T6eWI2G2"
      },
      "execution_count": 13,
      "outputs": []
    },
    {
      "cell_type": "code",
      "source": [
        "model = AdaBoostClassifier(n_estimators=100)\n",
        "model.fit(X_train, y_train)\n",
        "model.predict(X_test)"
      ],
      "metadata": {
        "colab": {
          "base_uri": "https://localhost:8080/"
        },
        "id": "P1svsMQiJLEp",
        "outputId": "43d62de8-aa0d-45d4-a592-12547506baa9"
      },
      "execution_count": 14,
      "outputs": [
        {
          "output_type": "execute_result",
          "data": {
            "text/plain": [
              "array([1, 1, 2, 0, 2, 2, 0, 2, 0, 1, 1, 1, 2, 2, 0, 0, 2, 2, 0, 0, 1, 2,\n",
              "       0, 1, 1, 2, 1, 1, 1, 2])"
            ]
          },
          "metadata": {},
          "execution_count": 14
        }
      ]
    },
    {
      "cell_type": "code",
      "source": [
        "model.score(X_test, y_test)"
      ],
      "metadata": {
        "colab": {
          "base_uri": "https://localhost:8080/"
        },
        "id": "X6e8uQuWKEt5",
        "outputId": "c403e053-8452-4d0a-edf4-2c11cf23c185"
      },
      "execution_count": 16,
      "outputs": [
        {
          "output_type": "execute_result",
          "data": {
            "text/plain": [
              "0.8666666666666667"
            ]
          },
          "metadata": {},
          "execution_count": 16
        }
      ]
    },
    {
      "cell_type": "code",
      "source": [
        "importances = model.feature_importances_"
      ],
      "metadata": {
        "id": "cHCz-mTTKKO7"
      },
      "execution_count": 17,
      "outputs": []
    },
    {
      "cell_type": "code",
      "source": [
        "indices_sorted = np.argsort(importances)\n",
        "\n",
        "plt.figure()\n",
        "plt.title('Feature Importances')\n",
        "plt.bar(range(len(importances)), importances[indices_sorted])\n",
        "plt.xticks(range(len(importances)), X.columns[indices_sorted], rotation = 90)\n",
        "plt.show()"
      ],
      "metadata": {
        "colab": {
          "base_uri": "https://localhost:8080/",
          "height": 359
        },
        "id": "Y8PsmPryKhWR",
        "outputId": "c1c8f925-0fb6-4c6f-e592-f67bcbe34ad0"
      },
      "execution_count": 21,
      "outputs": [
        {
          "output_type": "display_data",
          "data": {
            "text/plain": [
              "<Figure size 432x288 with 1 Axes>"
            ],
            "image/png": "[encoded data removed]"
          },
          "metadata": {
            "needs_background": "light"
          }
        }
      ]
    },
    {
      "cell_type": "code",
      "source": [],
      "metadata": {
        "id": "MkjcUCZWKwrB"
      },
      "execution_count": null,
      "outputs": []
    }
  ]
}